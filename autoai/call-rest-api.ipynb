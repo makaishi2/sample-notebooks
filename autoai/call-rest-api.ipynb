{
 "cells": [
  {
   "cell_type": "markdown",
   "metadata": {},
   "source": [
    "# Call Rest Api\n",
    "AutoAIでデプロイしたWebサービスを呼び出すためのサンプルコード"
   ]
  },
  {
   "cell_type": "code",
   "execution_count": 1,
   "metadata": {},
   "outputs": [],
   "source": [
    "# 変数定義\n",
    "# bank marketing\n",
    "\n",
    "# テスト用入力ファイル名\n",
    "infile = 'bank-test.csv'\n",
    "\n",
    "# 出力ファイル名\n",
    "outfile = 'bank-result.xlsx'\n",
    "\n",
    "# 目的変数名 (入力ファイルに目的変数が含まれている場合)\n",
    "y_name = 'y'"
   ]
  },
  {
   "cell_type": "code",
   "execution_count": 48,
   "metadata": {},
   "outputs": [],
   "source": [
    "# 変数定義\n",
    "\n",
    "# テスト用入力ファイル名\n",
    "infile = 'iris-test.csv'\n",
    "\n",
    "# 出力ファイル名\n",
    "outfule= 'iris-result.xlsx'\n",
    "\n",
    "# 目的変数名 (入力ファイルに目的変数が含まれている場合)\n",
    "# 目的変数の列がない場合は 'dummy' などダミーの列名を指定\n",
    "y_name = 'class'"
   ]
  },
  {
   "cell_type": "code",
   "execution_count": 2,
   "metadata": {},
   "outputs": [],
   "source": [
    "# Watson ML 資格情報\n",
    "wml_credentials = {\n",
    "  \"apikey\": \"xxxx\",\n",
    "  \"iam_apikey_description\": \"xxxx\",\n",
    "  \"iam_apikey_name\": \"wdp-writer\",\n",
    "  \"iam_role_crn\": \"crn:v1:bluemix:public:iam::::serviceRole:Writer\",\n",
    "  \"iam_serviceid_crn\": \"xxxx\",\n",
    "  \"instance_id\": \"xxxx\",\n",
    "  \"url\": \"https://us-south.ml.cloud.ibm.com\"\n",
    "}"
   ]
  },
  {
   "cell_type": "code",
   "execution_count": 3,
   "metadata": {},
   "outputs": [],
   "source": [
    "# scoring URLの設定\n",
    "# bank marketing\n",
    "scoring_url = \"https://us-south.ml.cloud.ibm.com/v4/deployments/d933f6bf-1022-43d2-b37c-a604d021b84d/predictions\""
   ]
  },
  {
   "cell_type": "code",
   "execution_count": 49,
   "metadata": {},
   "outputs": [],
   "source": [
    "# iris-model\n",
    "scoring_url = 'https://us-south.ml.cloud.ibm.com/v4/deployments/ef44ebef-f545-45c5-a2e5-643232f98cad/predictions'"
   ]
  },
  {
   "cell_type": "code",
   "execution_count": 50,
   "metadata": {},
   "outputs": [
    {
     "name": "stdout",
     "output_type": "stream",
     "text": [
      "Requirement already satisfied: japanize-matplotlib in /miniconda3/lib/python3.7/site-packages (1.0.5)\r\n"
     ]
    }
   ],
   "source": [
    "# 必要ライブラリの導入\n",
    "!pip install japanize-matplotlib | tail -n 1\n",
    "\n",
    "# 必要ライブラリのimport\n",
    "import pandas as pd\n",
    "import numpy as np\n",
    "import matplotlib.pyplot as plt\n",
    "\n",
    "# 日本語化対応\n",
    "import japanize_matplotlib #日本語化matplotlib"
   ]
  },
  {
   "cell_type": "markdown",
   "metadata": {},
   "source": [
    "### 必要ライブラリのimport"
   ]
  },
  {
   "cell_type": "code",
   "execution_count": 51,
   "metadata": {},
   "outputs": [],
   "source": [
    "import urllib3, requests, json\n",
    "import urllib.request"
   ]
  },
  {
   "cell_type": "markdown",
   "metadata": {},
   "source": [
    "### Watson ML呼出し準備"
   ]
  },
  {
   "cell_type": "code",
   "execution_count": null,
   "metadata": {},
   "outputs": [],
   "source": [
    "# トークン取得\n",
    "apikey = wml_credentials[\"apikey\"]\n",
    "\n",
    "# Get an IAM token from IBM Cloud\n",
    "url     = \"https://iam.bluemix.net/oidc/token\"\n",
    "headers = { \"Content-Type\" : \"application/x-www-form-urlencoded\" }\n",
    "data    = \"apikey=\" + apikey + \"&grant_type=urn:ibm:params:oauth:grant-type:apikey\"\n",
    "IBM_cloud_IAM_uid = \"bx\"\n",
    "IBM_cloud_IAM_pwd = \"bx\"\n",
    "response  = requests.post( url, headers=headers, data=data, \n",
    "        auth=( IBM_cloud_IAM_uid, IBM_cloud_IAM_pwd ) )\n",
    "iam_token = response.json()[\"access_token\"]\n",
    "\n",
    "print('iam_token = ', iam_token)"
   ]
  },
  {
   "cell_type": "code",
   "execution_count": 53,
   "metadata": {},
   "outputs": [],
   "source": [
    "# Header の組立て\n",
    "header_token = {'Content-Type': 'application/json', 'Authorization': 'Bearer ' + iam_token}\n",
    "ml_instance_id = wml_credentials[\"instance_id\"]\n",
    "header = {'Content-Type': 'application/json', 'Authorization': 'Bearer ' + iam_token, 'ML-Instance-ID': ml_instance_id}"
   ]
  },
  {
   "cell_type": "markdown",
   "metadata": {},
   "source": [
    "### テスト用CSV読み込み"
   ]
  },
  {
   "cell_type": "code",
   "execution_count": 54,
   "metadata": {},
   "outputs": [],
   "source": [
    "# データフレームに読み込み\n",
    "df = pd.read_csv(infile)"
   ]
  },
  {
   "cell_type": "code",
   "execution_count": 55,
   "metadata": {},
   "outputs": [],
   "source": [
    "df1 = df.copy()\n",
    "# np.nan値をNoneに置き換え\n",
    "df1 = df1.where((pd.notnull(df1)), None)"
   ]
  },
  {
   "cell_type": "code",
   "execution_count": 56,
   "metadata": {},
   "outputs": [
    {
     "data": {
      "text/html": [
       "<div>\n",
       "<style scoped>\n",
       "    .dataframe tbody tr th:only-of-type {\n",
       "        vertical-align: middle;\n",
       "    }\n",
       "\n",
       "    .dataframe tbody tr th {\n",
       "        vertical-align: top;\n",
       "    }\n",
       "\n",
       "    .dataframe thead th {\n",
       "        text-align: right;\n",
       "    }\n",
       "</style>\n",
       "<table border=\"1\" class=\"dataframe\">\n",
       "  <thead>\n",
       "    <tr style=\"text-align: right;\">\n",
       "      <th></th>\n",
       "      <th>class</th>\n",
       "      <th>x1</th>\n",
       "      <th>x2</th>\n",
       "      <th>x3</th>\n",
       "      <th>x4</th>\n",
       "    </tr>\n",
       "  </thead>\n",
       "  <tbody>\n",
       "    <tr>\n",
       "      <th>0</th>\n",
       "      <td>1</td>\n",
       "      <td>6.1</td>\n",
       "      <td>3.0</td>\n",
       "      <td>4.6</td>\n",
       "      <td>1.4</td>\n",
       "    </tr>\n",
       "    <tr>\n",
       "      <th>1</th>\n",
       "      <td>1</td>\n",
       "      <td>6.1</td>\n",
       "      <td>2.9</td>\n",
       "      <td>4.7</td>\n",
       "      <td>1.4</td>\n",
       "    </tr>\n",
       "    <tr>\n",
       "      <th>2</th>\n",
       "      <td>2</td>\n",
       "      <td>6.3</td>\n",
       "      <td>2.9</td>\n",
       "      <td>5.6</td>\n",
       "      <td>1.8</td>\n",
       "    </tr>\n",
       "    <tr>\n",
       "      <th>3</th>\n",
       "      <td>0</td>\n",
       "      <td>4.6</td>\n",
       "      <td>3.4</td>\n",
       "      <td>1.4</td>\n",
       "      <td>0.3</td>\n",
       "    </tr>\n",
       "    <tr>\n",
       "      <th>4</th>\n",
       "      <td>1</td>\n",
       "      <td>5.2</td>\n",
       "      <td>2.7</td>\n",
       "      <td>3.9</td>\n",
       "      <td>1.4</td>\n",
       "    </tr>\n",
       "  </tbody>\n",
       "</table>\n",
       "</div>"
      ],
      "text/plain": [
       "   class   x1   x2   x3   x4\n",
       "0      1  6.1  3.0  4.6  1.4\n",
       "1      1  6.1  2.9  4.7  1.4\n",
       "2      2  6.3  2.9  5.6  1.8\n",
       "3      0  4.6  3.4  1.4  0.3\n",
       "4      1  5.2  2.7  3.9  1.4"
      ]
     },
     "metadata": {},
     "output_type": "display_data"
    },
    {
     "name": "stdout",
     "output_type": "stream",
     "text": [
      "(45, 5)\n"
     ]
    }
   ],
   "source": [
    "# 内容確認\n",
    "display(df1.head())\n",
    "print(df1.shape)"
   ]
  },
  {
   "cell_type": "markdown",
   "metadata": {},
   "source": [
    "###  目的変数列の削除"
   ]
  },
  {
   "cell_type": "code",
   "execution_count": 57,
   "metadata": {},
   "outputs": [],
   "source": [
    "df2 = df1.copy()"
   ]
  },
  {
   "cell_type": "code",
   "execution_count": 58,
   "metadata": {},
   "outputs": [],
   "source": [
    "if y_name in df2.columns:\n",
    "    y = df[y_name].values\n",
    "    df2 = df2.drop(y_name, axis=1)"
   ]
  },
  {
   "cell_type": "markdown",
   "metadata": {},
   "source": [
    "### API呼出し用入力データ配列の作成"
   ]
  },
  {
   "cell_type": "code",
   "execution_count": 59,
   "metadata": {},
   "outputs": [
    {
     "name": "stdout",
     "output_type": "stream",
     "text": [
      "['x1', 'x2', 'x3', 'x4']\n"
     ]
    }
   ],
   "source": [
    "# DataFrameから項目名Listの生成\n",
    "fields = df2.columns.tolist()\n",
    "print(fields)"
   ]
  },
  {
   "cell_type": "code",
   "execution_count": 60,
   "metadata": {},
   "outputs": [
    {
     "name": "stdout",
     "output_type": "stream",
     "text": [
      "[[6.1, 3.0, 4.6, 1.4], [6.1, 2.9, 4.7, 1.4]]\n"
     ]
    }
   ],
   "source": [
    "# DataFrameから入力用Listの生成\n",
    "\n",
    "# テスト用\n",
    "values1 = df2.head(2).values.tolist()\n",
    "\n",
    "# 本番用\n",
    "values2 = df2.values.tolist()\n",
    "print(values1)"
   ]
  },
  {
   "cell_type": "markdown",
   "metadata": {},
   "source": [
    "### API呼び出し(テスト)"
   ]
  },
  {
   "cell_type": "code",
   "execution_count": 61,
   "metadata": {},
   "outputs": [],
   "source": [
    "# payload変数の組立て\n",
    "payload = {\"input_data\": [{\n",
    "    \"fields\": fields, \n",
    "    \"values\": values1\n",
    "}]}"
   ]
  },
  {
   "cell_type": "code",
   "execution_count": 62,
   "metadata": {},
   "outputs": [
    {
     "name": "stdout",
     "output_type": "stream",
     "text": [
      "<Response [200]>\n"
     ]
    }
   ],
   "source": [
    "# APIの呼出し\n",
    "response = requests.post(scoring_url,  json=payload, headers=header)\n",
    "print(response)"
   ]
  },
  {
   "cell_type": "code",
   "execution_count": 63,
   "metadata": {},
   "outputs": [
    {
     "data": {
      "text/html": [
       "<div>\n",
       "<style scoped>\n",
       "    .dataframe tbody tr th:only-of-type {\n",
       "        vertical-align: middle;\n",
       "    }\n",
       "\n",
       "    .dataframe tbody tr th {\n",
       "        vertical-align: top;\n",
       "    }\n",
       "\n",
       "    .dataframe thead th {\n",
       "        text-align: right;\n",
       "    }\n",
       "</style>\n",
       "<table border=\"1\" class=\"dataframe\">\n",
       "  <thead>\n",
       "    <tr style=\"text-align: right;\">\n",
       "      <th></th>\n",
       "      <th>prediction</th>\n",
       "      <th>probability</th>\n",
       "    </tr>\n",
       "  </thead>\n",
       "  <tbody>\n",
       "    <tr>\n",
       "      <th>0</th>\n",
       "      <td>1</td>\n",
       "      <td>[0.006038466040442731, 0.9753126125197338, 0.0...</td>\n",
       "    </tr>\n",
       "    <tr>\n",
       "      <th>1</th>\n",
       "      <td>1</td>\n",
       "      <td>[0.006038466040442731, 0.9753126125197338, 0.0...</td>\n",
       "    </tr>\n",
       "  </tbody>\n",
       "</table>\n",
       "</div>"
      ],
      "text/plain": [
       "   prediction                                        probability\n",
       "0           1  [0.006038466040442731, 0.9753126125197338, 0.0...\n",
       "1           1  [0.006038466040442731, 0.9753126125197338, 0.0..."
      ]
     },
     "metadata": {},
     "output_type": "display_data"
    }
   ],
   "source": [
    "# 戻り値のparse\n",
    "res = json.loads(response.text)\n",
    "\n",
    "pred = res['predictions'][0]\n",
    "pred_values = pred['values']\n",
    "pred_fields = pred['fields']\n",
    "df_res = pd.DataFrame(pred_values, columns = pred_fields)\n",
    "display(df_res)"
   ]
  },
  {
   "cell_type": "markdown",
   "metadata": {},
   "source": [
    "### API呼び出し(本番)"
   ]
  },
  {
   "cell_type": "code",
   "execution_count": 64,
   "metadata": {},
   "outputs": [],
   "source": [
    "# payload変数の組立て\n",
    "payload = {\"input_data\": [{\n",
    "    \"fields\": fields, \n",
    "    \"values\": values2\n",
    "}]}"
   ]
  },
  {
   "cell_type": "code",
   "execution_count": 65,
   "metadata": {},
   "outputs": [
    {
     "name": "stdout",
     "output_type": "stream",
     "text": [
      "<Response [200]>\n"
     ]
    }
   ],
   "source": [
    "# APIの呼出し\n",
    "response = requests.post(scoring_url,  json=payload, headers=header)\n",
    "print(response)"
   ]
  },
  {
   "cell_type": "code",
   "execution_count": 66,
   "metadata": {},
   "outputs": [
    {
     "data": {
      "text/html": [
       "<div>\n",
       "<style scoped>\n",
       "    .dataframe tbody tr th:only-of-type {\n",
       "        vertical-align: middle;\n",
       "    }\n",
       "\n",
       "    .dataframe tbody tr th {\n",
       "        vertical-align: top;\n",
       "    }\n",
       "\n",
       "    .dataframe thead th {\n",
       "        text-align: right;\n",
       "    }\n",
       "</style>\n",
       "<table border=\"1\" class=\"dataframe\">\n",
       "  <thead>\n",
       "    <tr style=\"text-align: right;\">\n",
       "      <th></th>\n",
       "      <th>prediction</th>\n",
       "      <th>probability</th>\n",
       "    </tr>\n",
       "  </thead>\n",
       "  <tbody>\n",
       "    <tr>\n",
       "      <th>0</th>\n",
       "      <td>1</td>\n",
       "      <td>[0.006038466040442731, 0.9753126125197338, 0.0...</td>\n",
       "    </tr>\n",
       "    <tr>\n",
       "      <th>1</th>\n",
       "      <td>1</td>\n",
       "      <td>[0.006038466040442731, 0.9753126125197338, 0.0...</td>\n",
       "    </tr>\n",
       "    <tr>\n",
       "      <th>2</th>\n",
       "      <td>2</td>\n",
       "      <td>[0.005305501325490514, 0.009639628435876606, 0...</td>\n",
       "    </tr>\n",
       "    <tr>\n",
       "      <th>3</th>\n",
       "      <td>0</td>\n",
       "      <td>[0.9909271419523884, 0.0033313586298476298, 0....</td>\n",
       "    </tr>\n",
       "    <tr>\n",
       "      <th>4</th>\n",
       "      <td>1</td>\n",
       "      <td>[0.006038466040442731, 0.9753126125197338, 0.0...</td>\n",
       "    </tr>\n",
       "  </tbody>\n",
       "</table>\n",
       "</div>"
      ],
      "text/plain": [
       "   prediction                                        probability\n",
       "0           1  [0.006038466040442731, 0.9753126125197338, 0.0...\n",
       "1           1  [0.006038466040442731, 0.9753126125197338, 0.0...\n",
       "2           2  [0.005305501325490514, 0.009639628435876606, 0...\n",
       "3           0  [0.9909271419523884, 0.0033313586298476298, 0....\n",
       "4           1  [0.006038466040442731, 0.9753126125197338, 0.0..."
      ]
     },
     "metadata": {},
     "output_type": "display_data"
    }
   ],
   "source": [
    "# 戻り値のparse\n",
    "res = json.loads(response.text)\n",
    "\n",
    "pred = res['predictions'][0]\n",
    "pred_values = pred['values']\n",
    "pred_fields = pred['fields']\n",
    "df_res = pd.DataFrame(pred_values, columns = pred_fields)\n",
    "display(df_res.head())"
   ]
  },
  {
   "cell_type": "code",
   "execution_count": 67,
   "metadata": {},
   "outputs": [
    {
     "data": {
      "text/html": [
       "<div>\n",
       "<style scoped>\n",
       "    .dataframe tbody tr th:only-of-type {\n",
       "        vertical-align: middle;\n",
       "    }\n",
       "\n",
       "    .dataframe tbody tr th {\n",
       "        vertical-align: top;\n",
       "    }\n",
       "\n",
       "    .dataframe thead th {\n",
       "        text-align: right;\n",
       "    }\n",
       "</style>\n",
       "<table border=\"1\" class=\"dataframe\">\n",
       "  <thead>\n",
       "    <tr style=\"text-align: right;\">\n",
       "      <th></th>\n",
       "      <th>prediction</th>\n",
       "      <th>probability0</th>\n",
       "      <th>probability1</th>\n",
       "      <th>probability2</th>\n",
       "    </tr>\n",
       "  </thead>\n",
       "  <tbody>\n",
       "    <tr>\n",
       "      <th>0</th>\n",
       "      <td>1</td>\n",
       "      <td>0.006038</td>\n",
       "      <td>0.975313</td>\n",
       "      <td>0.018649</td>\n",
       "    </tr>\n",
       "    <tr>\n",
       "      <th>1</th>\n",
       "      <td>1</td>\n",
       "      <td>0.006038</td>\n",
       "      <td>0.975313</td>\n",
       "      <td>0.018649</td>\n",
       "    </tr>\n",
       "    <tr>\n",
       "      <th>2</th>\n",
       "      <td>2</td>\n",
       "      <td>0.005306</td>\n",
       "      <td>0.009640</td>\n",
       "      <td>0.985055</td>\n",
       "    </tr>\n",
       "    <tr>\n",
       "      <th>3</th>\n",
       "      <td>0</td>\n",
       "      <td>0.990927</td>\n",
       "      <td>0.003331</td>\n",
       "      <td>0.005741</td>\n",
       "    </tr>\n",
       "    <tr>\n",
       "      <th>4</th>\n",
       "      <td>1</td>\n",
       "      <td>0.006038</td>\n",
       "      <td>0.975313</td>\n",
       "      <td>0.018649</td>\n",
       "    </tr>\n",
       "  </tbody>\n",
       "</table>\n",
       "</div>"
      ],
      "text/plain": [
       "   prediction  probability0  probability1  probability2\n",
       "0           1      0.006038      0.975313      0.018649\n",
       "1           1      0.006038      0.975313      0.018649\n",
       "2           2      0.005306      0.009640      0.985055\n",
       "3           0      0.990927      0.003331      0.005741\n",
       "4           1      0.006038      0.975313      0.018649"
      ]
     },
     "metadata": {},
     "output_type": "display_data"
    }
   ],
   "source": [
    "w = df_res.probability\n",
    "df_res = df_res.drop('probability', axis=1)\n",
    "for i in range(len(w[0])):\n",
    "    key = 'probability%d' % i\n",
    "    df_res[key] = w.map(lambda x: x[i])\n",
    "display(df_res.head())"
   ]
  },
  {
   "cell_type": "code",
   "execution_count": 68,
   "metadata": {},
   "outputs": [],
   "source": [
    "df_result = pd.concat([df, df_res], axis=1)"
   ]
  },
  {
   "cell_type": "code",
   "execution_count": 69,
   "metadata": {},
   "outputs": [
    {
     "data": {
      "text/html": [
       "<div>\n",
       "<style scoped>\n",
       "    .dataframe tbody tr th:only-of-type {\n",
       "        vertical-align: middle;\n",
       "    }\n",
       "\n",
       "    .dataframe tbody tr th {\n",
       "        vertical-align: top;\n",
       "    }\n",
       "\n",
       "    .dataframe thead th {\n",
       "        text-align: right;\n",
       "    }\n",
       "</style>\n",
       "<table border=\"1\" class=\"dataframe\">\n",
       "  <thead>\n",
       "    <tr style=\"text-align: right;\">\n",
       "      <th></th>\n",
       "      <th>class</th>\n",
       "      <th>x1</th>\n",
       "      <th>x2</th>\n",
       "      <th>x3</th>\n",
       "      <th>x4</th>\n",
       "      <th>prediction</th>\n",
       "      <th>probability0</th>\n",
       "      <th>probability1</th>\n",
       "      <th>probability2</th>\n",
       "    </tr>\n",
       "  </thead>\n",
       "  <tbody>\n",
       "    <tr>\n",
       "      <th>0</th>\n",
       "      <td>1</td>\n",
       "      <td>6.1</td>\n",
       "      <td>3.0</td>\n",
       "      <td>4.6</td>\n",
       "      <td>1.4</td>\n",
       "      <td>1</td>\n",
       "      <td>0.006038</td>\n",
       "      <td>0.975313</td>\n",
       "      <td>0.018649</td>\n",
       "    </tr>\n",
       "    <tr>\n",
       "      <th>1</th>\n",
       "      <td>1</td>\n",
       "      <td>6.1</td>\n",
       "      <td>2.9</td>\n",
       "      <td>4.7</td>\n",
       "      <td>1.4</td>\n",
       "      <td>1</td>\n",
       "      <td>0.006038</td>\n",
       "      <td>0.975313</td>\n",
       "      <td>0.018649</td>\n",
       "    </tr>\n",
       "    <tr>\n",
       "      <th>2</th>\n",
       "      <td>2</td>\n",
       "      <td>6.3</td>\n",
       "      <td>2.9</td>\n",
       "      <td>5.6</td>\n",
       "      <td>1.8</td>\n",
       "      <td>2</td>\n",
       "      <td>0.005306</td>\n",
       "      <td>0.009640</td>\n",
       "      <td>0.985055</td>\n",
       "    </tr>\n",
       "    <tr>\n",
       "      <th>3</th>\n",
       "      <td>0</td>\n",
       "      <td>4.6</td>\n",
       "      <td>3.4</td>\n",
       "      <td>1.4</td>\n",
       "      <td>0.3</td>\n",
       "      <td>0</td>\n",
       "      <td>0.990927</td>\n",
       "      <td>0.003331</td>\n",
       "      <td>0.005741</td>\n",
       "    </tr>\n",
       "    <tr>\n",
       "      <th>4</th>\n",
       "      <td>1</td>\n",
       "      <td>5.2</td>\n",
       "      <td>2.7</td>\n",
       "      <td>3.9</td>\n",
       "      <td>1.4</td>\n",
       "      <td>1</td>\n",
       "      <td>0.006038</td>\n",
       "      <td>0.975313</td>\n",
       "      <td>0.018649</td>\n",
       "    </tr>\n",
       "  </tbody>\n",
       "</table>\n",
       "</div>"
      ],
      "text/plain": [
       "   class   x1   x2   x3   x4  prediction  probability0  probability1  \\\n",
       "0      1  6.1  3.0  4.6  1.4           1      0.006038      0.975313   \n",
       "1      1  6.1  2.9  4.7  1.4           1      0.006038      0.975313   \n",
       "2      2  6.3  2.9  5.6  1.8           2      0.005306      0.009640   \n",
       "3      0  4.6  3.4  1.4  0.3           0      0.990927      0.003331   \n",
       "4      1  5.2  2.7  3.9  1.4           1      0.006038      0.975313   \n",
       "\n",
       "   probability2  \n",
       "0      0.018649  \n",
       "1      0.018649  \n",
       "2      0.985055  \n",
       "3      0.005741  \n",
       "4      0.018649  "
      ]
     },
     "metadata": {},
     "output_type": "display_data"
    }
   ],
   "source": [
    "display(df_result.head())"
   ]
  },
  {
   "cell_type": "code",
   "execution_count": 70,
   "metadata": {},
   "outputs": [],
   "source": [
    "# Excelに書き出し\n",
    "df_result.to_excel(outfile, index=False)"
   ]
  },
  {
   "cell_type": "code",
   "execution_count": null,
   "metadata": {},
   "outputs": [],
   "source": []
  }
 ],
 "metadata": {
  "kernelspec": {
   "display_name": "Python 3",
   "language": "python",
   "name": "python3"
  },
  "language_info": {
   "codemirror_mode": {
    "name": "ipython",
    "version": 3
   },
   "file_extension": ".py",
   "mimetype": "text/x-python",
   "name": "python",
   "nbconvert_exporter": "python",
   "pygments_lexer": "ipython3",
   "version": "3.7.3"
  }
 },
 "nbformat": 4,
 "nbformat_minor": 2
}
