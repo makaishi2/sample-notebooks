{
 "cells": [
  {
   "cell_type": "markdown",
   "metadata": {},
   "source": [
    "# 循環セールスマン問題　オリジナル対応版"
   ]
  },
  {
   "cell_type": "markdown",
   "metadata": {},
   "source": [
    "## 問題データのロード"
   ]
  },
  {
   "cell_type": "code",
   "execution_count": 1,
   "metadata": {},
   "outputs": [],
   "source": [
    "# ライブラリのロード\n",
    "\n",
    "import numpy as np\n",
    "import pandas as pd\n",
    "import matplotlib.pyplot as plt\n",
    "from IPython.display import display"
   ]
  },
  {
   "cell_type": "code",
   "execution_count": 2,
   "metadata": {},
   "outputs": [
    {
     "data": {
      "text/html": [
       "<div>\n",
       "<style scoped>\n",
       "    .dataframe tbody tr th:only-of-type {\n",
       "        vertical-align: middle;\n",
       "    }\n",
       "\n",
       "    .dataframe tbody tr th {\n",
       "        vertical-align: top;\n",
       "    }\n",
       "\n",
       "    .dataframe thead th {\n",
       "        text-align: right;\n",
       "    }\n",
       "</style>\n",
       "<table border=\"1\" class=\"dataframe\">\n",
       "  <thead>\n",
       "    <tr style=\"text-align: right;\">\n",
       "      <th></th>\n",
       "      <th>x</th>\n",
       "      <th>y</th>\n",
       "    </tr>\n",
       "  </thead>\n",
       "  <tbody>\n",
       "    <tr>\n",
       "      <th>0</th>\n",
       "      <td>6734</td>\n",
       "      <td>1453</td>\n",
       "    </tr>\n",
       "    <tr>\n",
       "      <th>1</th>\n",
       "      <td>2233</td>\n",
       "      <td>10</td>\n",
       "    </tr>\n",
       "    <tr>\n",
       "      <th>2</th>\n",
       "      <td>5530</td>\n",
       "      <td>1424</td>\n",
       "    </tr>\n",
       "    <tr>\n",
       "      <th>3</th>\n",
       "      <td>401</td>\n",
       "      <td>841</td>\n",
       "    </tr>\n",
       "    <tr>\n",
       "      <th>4</th>\n",
       "      <td>3082</td>\n",
       "      <td>1644</td>\n",
       "    </tr>\n",
       "  </tbody>\n",
       "</table>\n",
       "</div>"
      ],
      "text/plain": [
       "      x     y\n",
       "0  6734  1453\n",
       "1  2233    10\n",
       "2  5530  1424\n",
       "3   401   841\n",
       "4  3082  1644"
      ]
     },
     "metadata": {},
     "output_type": "display_data"
    },
    {
     "name": "stdout",
     "output_type": "stream",
     "text": [
      "size =  (48, 2)\n"
     ]
    }
   ],
   "source": [
    "# データのロード\n",
    "# 48件は巡回セールスマン問題のオリジナルデータです\n",
    "\n",
    "url = 'https://raw.githubusercontent.com/makaishi2/sample-data/master/data/att48.csv'\n",
    "df = pd.read_csv(url)\n",
    "display(df.head())\n",
    "print('size = ', df.values.shape)"
   ]
  },
  {
   "cell_type": "code",
   "execution_count": 3,
   "metadata": {},
   "outputs": [],
   "source": [
    "# 対象項目数\n",
    "# N = 25 は10秒程度で解決\n",
    "# N = 25\n",
    "\n",
    "# N=30 は4分弱かかる\n",
    "N = 30\n",
    "\n",
    "# これ以上の値での結果は未確認"
   ]
  },
  {
   "cell_type": "code",
   "execution_count": 4,
   "metadata": {},
   "outputs": [
    {
     "data": {
      "image/png": "[encoded data removed]",
      "text/plain": [
       "<Figure size 432x432 with 1 Axes>"
      ]
     },
     "metadata": {
      "needs_background": "light"
     },
     "output_type": "display_data"
    }
   ],
   "source": [
    "# 絞り込んだデータを使って、初期化と散布図表示\n",
    "\n",
    "data = df[:N]\n",
    "data_np = np.array(data)\n",
    "plt.figure(figsize=(6,6))\n",
    "plt.scatter(data_np[:,0], data_np[:,1])\n",
    "plt.grid()\n",
    "plt.show()"
   ]
  },
  {
   "cell_type": "code",
   "execution_count": 5,
   "metadata": {},
   "outputs": [],
   "source": [
    "# 距離関数の定義\n",
    "# 便宜上ユークリッド距離にしています\n",
    "\n",
    "def distance(i, j):\n",
    "    return np.sqrt(np.sum((data_np[i,:] - data_np[j,:])** 2))"
   ]
  },
  {
   "cell_type": "code",
   "execution_count": 6,
   "metadata": {},
   "outputs": [],
   "source": [
    "# コスト配列の定義\n",
    "c = np.zeros((N,N))\n",
    "\n",
    "for i in range(N):\n",
    "    for j in range(N):\n",
    "        c[i, j] = distance(i, j)"
   ]
  },
  {
   "cell_type": "markdown",
   "metadata": {},
   "source": [
    "## CPLEXによる問題定義"
   ]
  },
  {
   "cell_type": "code",
   "execution_count": 7,
   "metadata": {},
   "outputs": [
    {
     "name": "stdout",
     "output_type": "stream",
     "text": [
      "* system is: Linux 64bit\n",
      "* Python version 3.6.8, located at: /opt/conda/envs/Python36/bin/python\n",
      "* docplex is present, version is (2, 10, 150)\n",
      "* CPLEX library is present, version is 12.9.0.1, located at: /opt/conda/envs/Python36/lib/python3.6/site-packages\n",
      "* pandas is present, version is 0.24.1\n"
     ]
    }
   ],
   "source": [
    "# CPLEX環境の確認\n",
    "\n",
    "from docplex.mp.environment import Environment\n",
    "env = Environment()\n",
    "env.print_information()"
   ]
  },
  {
   "cell_type": "markdown",
   "metadata": {},
   "source": [
    "### モデルの宣言"
   ]
  },
  {
   "cell_type": "code",
   "execution_count": 8,
   "metadata": {},
   "outputs": [],
   "source": [
    "# モデルの宣言\n",
    "\n",
    "from docplex.mp.model import Model\n",
    "mdl = Model(name=\"TSP\")"
   ]
  },
  {
   "cell_type": "code",
   "execution_count": null,
   "metadata": {},
   "outputs": [],
   "source": [
    "# モデルのパラメータ定義\n",
    "\n",
    "# スレッド数: 2\n",
    "mdl.parameters.threads = 2\n",
    "# 最大時間数: 600秒\n",
    "mdl.parameters.timelimit = 600"
   ]
  },
  {
   "cell_type": "markdown",
   "metadata": {},
   "source": [
    "### 決定変数の宣言"
   ]
  },
  {
   "cell_type": "code",
   "execution_count": 9,
   "metadata": {},
   "outputs": [],
   "source": [
    "# 決定変数の宣言\n",
    "\n",
    "# x : 移動matrix\n",
    "# i番目のノードからj番目のノードに移動する時 x_ij = 1\n",
    "# それ以外の場合 x_ij = 0\n",
    "x = mdl.integer_var_matrix(N, N)\n",
    "\n",
    "# u: 順序変数\n",
    "# 0番目のノードの次に移動するノードがiの場合\n",
    "# u[i] = 1\n",
    "# その次に移動するノードがjの場合\n",
    "# u[j] = 2\n",
    "# .. のように定義する\n",
    "u = mdl.integer_var_list(N)"
   ]
  },
  {
   "cell_type": "markdown",
   "metadata": {},
   "source": [
    "### 制約の定義"
   ]
  },
  {
   "cell_type": "code",
   "execution_count": 10,
   "metadata": {},
   "outputs": [],
   "source": [
    "# u(順序変数)の制約\n",
    "# 最初のノードは0番目 : u[0] = 0\n",
    "# それ以外の順序変数は1以上 N-1以下\n",
    "\n",
    "mdl.add_constraint(u[0] == 0)\n",
    "for i in range(1, N):\n",
    "    mdl.add_constraint(u[i] >= 1)\n",
    "    mdl.add_constraint(u[i] <= N-1)"
   ]
  },
  {
   "cell_type": "code",
   "execution_count": 11,
   "metadata": {},
   "outputs": [],
   "source": [
    "# x(移動matrix)の制約\n",
    "# 自分から自分への移動はないので、u_ii = 0\n",
    "# それ以外の場合は u_ij は0か1\n",
    "\n",
    "for i in range(N):\n",
    "    for j in range(N):\n",
    "        if i == j:\n",
    "            mdl.add_constraint(x[i, j] == 0)\n",
    "        else:\n",
    "            mdl.add_constraint(x[i, j] >= 0)\n",
    "            mdl.add_constraint(x[i, j] <= 1)"
   ]
  },
  {
   "cell_type": "code",
   "execution_count": 12,
   "metadata": {},
   "outputs": [],
   "source": [
    "# x(移動matirx)に関する縦の制約\n",
    "\n",
    "for i in range(N):\n",
    "    mdl.add_constraint(mdl.sum(x[i, j] for j in range(N)) == 1)"
   ]
  },
  {
   "cell_type": "code",
   "execution_count": 13,
   "metadata": {},
   "outputs": [],
   "source": [
    "# x(移動matirx)に関する横の制約\n",
    "\n",
    "for j in range(N):\n",
    "    mdl.add_constraint(mdl.sum(x[i, j] for i in range(N)) == 1)"
   ]
  },
  {
   "cell_type": "code",
   "execution_count": 14,
   "metadata": {},
   "outputs": [],
   "source": [
    "# 部分路制約\n",
    "# ループが全体で1つであるための条件\n",
    "# 参考リンク http://satemochi.blog.fc2.com/blog-entry-24.html\n",
    "\n",
    "for i in range(1, N):\n",
    "    for j in range(1, N):\n",
    "        mdl.add_constraint(u[i] - u[j] + N * x[i,j] <= N -1)"
   ]
  },
  {
   "cell_type": "markdown",
   "metadata": {},
   "source": [
    "### 最適化関数の定義"
   ]
  },
  {
   "cell_type": "code",
   "execution_count": 15,
   "metadata": {},
   "outputs": [],
   "source": [
    "# 総移動コスト\n",
    "\n",
    "total_cost = mdl.sum(c[i, j] * x[i, j] for i in range(N) for j in range(N))"
   ]
  },
  {
   "cell_type": "code",
   "execution_count": 16,
   "metadata": {},
   "outputs": [],
   "source": [
    "# 最適化の定義\n",
    "\n",
    "mdl.minimize(total_cost)"
   ]
  },
  {
   "cell_type": "markdown",
   "metadata": {},
   "source": [
    "### 制約設定の確認"
   ]
  },
  {
   "cell_type": "code",
   "execution_count": 17,
   "metadata": {},
   "outputs": [
    {
     "name": "stdout",
     "output_type": "stream",
     "text": [
      "Model: TSP\n",
      " - number of variables: 930\n",
      "   - binary=0, integer=930, continuous=0\n",
      " - number of constraints: 2730\n",
      "   - linear=2730\n",
      " - parameters: defaults\n",
      " - problem type is: MILP\n"
     ]
    }
   ],
   "source": [
    "# 制約設定の確認\n",
    "\n",
    "mdl.print_information()"
   ]
  },
  {
   "cell_type": "markdown",
   "metadata": {},
   "source": [
    "## 問題を解く"
   ]
  },
  {
   "cell_type": "code",
   "execution_count": 18,
   "metadata": {
    "scrolled": false
   },
   "outputs": [
    {
     "name": "stdout",
     "output_type": "stream",
     "text": [
      "WARNING: Number of workers has been reduced to 2 to comply with platform limitations.\n",
      "CPXPARAM_Read_DataCheck                          1\n",
      "CPXPARAM_Threads                                 2\n",
      "Tried aggregator 1 time.\n",
      "MIP Presolve eliminated 1858 rows and 31 columns.\n",
      "MIP Presolve modified 1624 coefficients.\n",
      "Reduced MIP has 872 rows, 899 columns, and 4176 nonzeros.\n",
      "Reduced MIP has 870 binaries, 29 generals, 0 SOSs, and 0 indicators.\n",
      "Presolve time = 0.01 sec. (3.03 ticks)\n",
      "Probing time = 0.01 sec. (2.90 ticks)\n",
      "Tried aggregator 1 time.\n",
      "Reduced MIP has 872 rows, 899 columns, and 4176 nonzeros.\n",
      "Reduced MIP has 870 binaries, 29 generals, 0 SOSs, and 0 indicators.\n",
      "Presolve time = 0.01 sec. (3.18 ticks)\n",
      "Probing time = 0.01 sec. (2.89 ticks)\n",
      "Clique table members: 466.\n",
      "MIP emphasis: balance optimality and feasibility.\n",
      "MIP search method: dynamic search.\n",
      "Parallel mode: deterministic, using up to 2 threads.\n",
      "Root relaxation solution time = 0.00 sec. (1.41 ticks)\n",
      "\n",
      "        Nodes                                         Cuts/\n",
      "   Node  Left     Objective  IInf  Best Integer    Best Bound    ItCnt     Gap\n",
      "\n",
      "*     0+    0                        86255.7609        0.0000           100.00%\n",
      "      0     0    18184.3571    62    86255.7609    18184.3571       51   78.92%\n",
      "      0     0    20769.9760    72    86255.7609      Cuts: 93       94   75.92%\n",
      "      0     0    20848.4887    72    86255.7609      Cuts: 45      126   75.83%\n",
      "      0     0    20848.4887    72    86255.7609      Cuts: 43      141   75.83%\n",
      "      0     0    20848.4887    71    86255.7609      Cuts: 15      152   75.83%\n",
      "*     0+    0                        41843.4590    20848.4887            50.18%\n",
      "      0     2    20848.4887    71    41843.4590    20848.4887      152   50.18%\n",
      "Elapsed time = 0.18 sec. (85.35 ticks, tree = 0.02 MB, solutions = 2)\n",
      "*   141   109      integral     0    32550.0557    20852.8478     1158   35.94%\n",
      "*   239+  162                        32483.1076    20859.3823            35.78%\n",
      "*   246   187      integral     0    32154.2342    20859.3823     1971   35.13%\n",
      "*   357   248      integral     0    30989.2457    20869.4672     2556   32.66%\n",
      "*   553+  371                        29226.0079    20919.8753            28.42%\n",
      "    925   618        cutoff          29226.0079    20987.4177     6459   28.19%\n",
      "*   945   657      integral     0    28706.9303    20987.4177     6826   26.89%\n",
      "*  1105   711      integral     0    27920.9680    21010.5901     7571   24.75%\n",
      "*  1315+  789                        26416.1705    21046.8503            20.33%\n",
      "*  1739+  668                        26170.9944    21102.1621            19.37%\n",
      "*  1739+  445                        26137.0810    23027.3950            11.90%\n",
      "   1739   446    23027.3950    70    26137.0810    23027.3950    13497   11.90%\n",
      "   1804    69    23820.5606    59    26137.0810    23157.8375    13861   11.40%\n",
      "   1987   135    25346.2108    50    26137.0810    23165.8104    14863   11.37%\n",
      "   2302   368    25846.5460    57    26137.0810    23514.9818    17466   10.03%\n",
      "   2712   595    23863.0468    62    26137.0810    23618.6194    20552    9.64%\n",
      "   3126   900    24043.7941    70    26137.0810    23860.3100    23102    8.71%\n",
      "   3470  1216    24411.0104    65    26137.0810    23894.0958    26173    8.58%\n",
      "   5669  2959    24076.1489    16    26137.0810    24017.0075    39231    8.11%\n",
      "Elapsed time = 11.20 sec. (6700.75 ticks, tree = 1.79 MB, solutions = 13)\n",
      "*  5789+ 2928                        25925.0227    24023.0428             7.34%\n",
      "   7439  4249    24642.8162    47    25925.0227    24056.9249    49157    7.21%\n",
      "   8738  5208    24582.6299    17    25925.0227    24090.2889    57060    7.08%\n",
      "  10327  6376    24591.7095    51    25925.0227    24109.5227    66006    7.00%\n",
      "  12524  7911    24835.8060    48    25925.0227    24132.2457    80534    6.92%\n",
      "* 13320  8545      integral     0    25837.7567    24149.9354    85757    6.53%\n",
      "* 13511+ 8484                        25760.2939    24151.0879             6.25%\n",
      "* 13515+ 8442                        25651.9401    24154.1951             5.84%\n",
      "  15171  9162    24552.6245    51    25651.9401    24169.8470    96395    5.78%\n",
      "* 15718  9548      integral     0    25576.8069    24176.6611   100384    5.47%\n",
      "* 15870+ 9350                        25354.1056    24178.9741             4.63%\n",
      "  16579  8943    24541.8602     4    25354.1056    24186.7255   104966    4.60%\n",
      "  17835  9576    24289.3486    24    25354.1056    24199.3640   114646    4.55%\n",
      "  18352  9940    23425.7270    80    25354.1056    24211.1366   120370    4.51%\n",
      "  18826   266        cutoff          25354.1056    24211.1366   125783    4.51%\n",
      "Elapsed time = 28.79 sec. (17819.40 ticks, tree = 0.41 MB, solutions = 19)\n",
      "  19878   914    24101.5778    43    25354.1056    24211.1366   134462    4.51%\n",
      "  21740  2159    24265.6540    73    25354.1056    24211.1366   147974    4.51%\n",
      "  23994  3781    24841.3810    51    25354.1056    24211.1366   163153    4.51%\n",
      "  26478  5373    24113.5431    22    25354.1056    24211.1366   184463    4.51%\n",
      "  29210  7259        cutoff          25354.1056    24211.1366   205899    4.51%\n",
      "  31025  8395    25204.2756    33    25354.1056    24211.1366   223494    4.51%\n",
      "  31975  8922    24455.8430    20    25354.1056    24211.1366   232216    4.51%\n",
      "  33415  9678    24812.6871    41    25354.1056    24211.1366   243567    4.51%\n",
      "  35022 10634    24299.0134    31    25354.1056    24211.1366   255911    4.51%\n",
      "  35995 11218    24453.3199    52    25354.1056    24211.1366   264544    4.51%\n",
      "Elapsed time = 42.26 sec. (27378.98 ticks, tree = 6.00 MB, solutions = 19)\n",
      "  36990 11783    24456.1553    52    25354.1056    24215.2893   273424    4.49%\n",
      "  37828 12162    24341.2001    61    25354.1056    24227.8333   280098    4.44%\n",
      "  38943 12687    24734.5571    72    25354.1056    24238.7221   288867    4.40%\n",
      "  39921 13140    24648.6220    24    25354.1056    24251.9490   297020    4.35%\n",
      "  41153 13707    24462.7838    14    25354.1056    24266.2447   306895    4.29%\n",
      "  42968 14339    24420.2663    24    25354.1056    24279.3738   320811    4.24%\n",
      "  45283 15308    25112.8321    14    25354.1056    24299.8816   341726    4.16%\n",
      "  47396 15905    24579.2714    43    25354.1056    24329.4066   361460    4.04%\n",
      "  49610 16745    24416.9485    31    25354.1056    24347.5248   382773    3.97%\n",
      "  51831 17387    24895.7471     6    25354.1056    24373.4706   401824    3.87%\n",
      "Elapsed time = 55.86 sec. (36920.19 ticks, tree = 9.67 MB, solutions = 19)\n",
      "  54058 18034    24854.8991    10    25354.1056    24392.3602   421136    3.79%\n",
      "  56244 18687    24599.9313    52    25354.1056    24408.5230   440940    3.73%\n",
      "  58482 19275        cutoff          25354.1056    24428.1067   459757    3.65%\n",
      "  60879 20000    24504.9016    23    25354.1056    24443.9705   479323    3.59%\n",
      "  63291 20777        cutoff          25354.1056    24463.7423   498751    3.51%\n",
      "  65693 21620    24549.7676    20    25354.1056    24478.9965   517091    3.45%\n",
      "  68145 22666        cutoff          25354.1056    24491.8870   539364    3.40%\n",
      "  70390 23399    24600.8542    16    25354.1056    24506.5380   557857    3.34%\n",
      "  72713 24174    24589.8129    19    25354.1056    24518.8077   575218    3.29%\n",
      "  75120 24946    24864.6023    66    25354.1056    24529.2071   594858    3.25%\n",
      "Elapsed time = 67.70 sec. (46459.69 ticks, tree = 13.36 MB, solutions = 19)\n",
      "  77331 25606    24655.7846    15    25354.1056    24541.0017   611005    3.21%\n",
      "  79664 26425    24992.7292    43    25354.1056    24551.3517   628747    3.17%\n",
      "  82004 27253    24574.4184    55    25354.1056    24562.4361   645840    3.12%\n",
      "  84366 28133    25149.0183    14    25354.1056    24571.5534   665257    3.09%\n",
      "  86720 29017    25011.5784    19    25354.1056    24580.2118   682851    3.05%\n",
      "  89163 29902    24964.7007    23    25354.1056    24589.2162   701514    3.02%\n",
      "  91607 30770    24700.8259    39    25354.1056    24597.6145   721862    2.98%\n",
      "  93834 31417    24773.0834    44    25354.1056    24605.7855   739701    2.95%\n",
      "  96106 32082    24914.0586    58    25354.1056    24614.1328   758250    2.92%\n",
      "  98300 32754    25268.2861    24    25354.1056    24620.9708   774637    2.89%\n",
      "Elapsed time = 79.74 sec. (55999.13 ticks, tree = 17.17 MB, solutions = 19)\n",
      " 100471 33450    24837.0651    25    25354.1056    24628.6066   791703    2.86%\n",
      " 102755 34158    25168.2307    37    25354.1056    24634.3260   809871    2.84%\n",
      " 105124 34799    24998.6884    25    25354.1056    24642.0608   827091    2.81%\n",
      " 107226 35330    infeasible          25354.1056    24649.3285   843955    2.78%\n",
      " 109391 35890    24791.8757    61    25354.1056    24656.3756   860421    2.75%\n",
      " 111785 36677        cutoff          25354.1056    24663.7079   882690    2.72%\n",
      " 114086 37134    25053.1131    14    25354.1056    24668.4433   896041    2.70%\n",
      " 116187 37713        cutoff          25354.1056    24676.3622   915533    2.67%\n",
      " 118384 38220    24851.8655    50    25354.1056    24682.3823   933005    2.65%\n",
      " 120562 38888    24937.0258    16    25354.1056    24688.7287   952314    2.62%\n",
      "Elapsed time = 91.75 sec. (65538.40 ticks, tree = 21.66 MB, solutions = 19)\n",
      " 122675 39441    25164.3094     9    25354.1056    24695.0454   969115    2.60%\n",
      " 124845 39860        cutoff          25354.1056    24701.7606   987263    2.57%\n",
      " 126989 40202    24836.5636    46    25354.1056    24705.9488  1000385    2.56%\n",
      " 129176 40647        cutoff          25354.1056    24712.3912  1018881    2.53%\n",
      " 131279 41189        cutoff          25354.1056    24719.0629  1038331    2.50%\n",
      " 133340 41599    24799.2492    25    25354.1056    24724.2298  1055003    2.48%\n",
      " 135308 41911    infeasible          25354.1056    24730.6033  1072396    2.46%\n",
      " 137398 42290    25174.2971    14    25354.1056    24734.9822  1087966    2.44%\n",
      " 139428 42764        cutoff          25354.1056    24740.5058  1104827    2.42%\n",
      " 141414 43159    24949.3069    49    25354.1056    24744.2602  1120846    2.41%\n",
      "Elapsed time = 103.51 sec. (75078.12 ticks, tree = 23.88 MB, solutions = 19)\n",
      " 143582 43608    24916.0813    61    25354.1056    24749.1326  1139789    2.39%\n",
      " 145705 43961    infeasible          25354.1056    24753.0764  1155801    2.37%\n",
      " 147800 44347        cutoff          25354.1056    24757.4114  1172591    2.35%\n",
      " 149698 44571    24886.6199    66    25354.1056    24763.1126  1189829    2.33%\n",
      " 151813 44844    25193.7765    14    25354.1056    24767.3880  1204877    2.31%\n",
      " 153940 45209    25118.9571    22    25354.1056    24772.5849  1226046    2.29%\n",
      " 155927 45426    24812.9644    33    25354.1056    24777.3031  1239812    2.27%\n",
      " 157957 45726    24984.9241    60    25354.1056    24782.0807  1258695    2.26%\n",
      " 160104 46084    25353.6703     9    25354.1056    24786.4785  1275383    2.24%\n",
      " 162003 46268        cutoff          25354.1056    24791.3164  1290901    2.22%\n",
      "Elapsed time = 115.13 sec. (84618.15 ticks, tree = 25.55 MB, solutions = 19)\n",
      " 163884 46452    24948.9274    19    25354.1056    24795.5927  1307310    2.20%\n",
      " 166104 46844        cutoff          25354.1056    24801.0959  1325956    2.18%\n",
      " 168220 47107    25007.2876    23    25354.1056    24805.0484  1342279    2.17%\n",
      " 170215 47464    25133.5685    28    25354.1056    24809.5459  1359142    2.15%\n",
      " 172341 47628    24929.3831    16    25354.1056    24814.0298  1373443    2.13%\n",
      " 174366 47860    24831.1942    22    25354.1056    24818.4658  1391654    2.11%\n",
      " 176210 47974    24897.9586    16    25354.1056    24823.0970  1408348    2.09%\n",
      " 178329 48135        cutoff          25354.1056    24825.9454  1423835    2.08%\n",
      " 180291 48309        cutoff          25354.1056    24830.8169  1438604    2.06%\n",
      " 187898 48753    25009.9071    48    25354.1056    24847.5202  1509472    2.00%\n",
      "Elapsed time = 130.39 sec. (97019.60 ticks, tree = 26.92 MB, solutions = 19)\n",
      " 195376 48642    infeasible          25354.1056    24863.2466  1571054    1.94%\n",
      " 202772 48282        cutoff          25354.1056    24879.8463  1637494    1.87%\n",
      " 210381 47851    25037.5387    48    25354.1056    24895.9656  1702272    1.81%\n",
      " 218366 47705    24929.5793    18    25354.1056    24912.7080  1767862    1.74%\n",
      " 226016 47404    infeasible          25354.1056    24928.4149  1828702    1.68%\n",
      " 233375 46629    24954.7796     8    25354.1056    24944.0290  1892999    1.62%\n",
      " 240622 45793    25153.7137    54    25354.1056    24959.5203  1956670    1.56%\n",
      " 247873 44522    25132.5132    23    25354.1056    24974.3712  2020874    1.50%\n",
      " 254998 43200    25345.6905    18    25354.1056    24989.7615  2081435    1.44%\n",
      " 262101 41780        cutoff          25354.1056    25005.3450  2144239    1.38%\n",
      "Elapsed time = 177.03 sec. (135169.72 ticks, tree = 23.80 MB, solutions = 19)\n",
      " 269639 40107    25098.4746    18    25354.1056    25020.6536  2205208    1.32%\n",
      " 277239 38153    25159.7122    57    25354.1056    25036.6919  2273600    1.25%\n",
      " 284974 35705        cutoff          25354.1056    25054.2574  2338481    1.18%\n",
      " 292879 33247    25198.5030     8    25354.1056    25072.4553  2404359    1.11%\n",
      " 300841 30308        cutoff          25354.1056    25091.8792  2472974    1.03%\n",
      " 308891 27687        cutoff          25354.1056    25110.7472  2534193    0.96%\n",
      " 317105 24050        cutoff          25354.1056    25132.9925  2604405    0.87%\n",
      " 325448 20165        cutoff          25354.1056    25157.6747  2674217    0.77%\n",
      " 334254 15022        cutoff          25354.1056    25192.3348  2742881    0.64%\n",
      " 343461  8762        cutoff          25354.1056    25244.3208  2809424    0.43%\n",
      "Elapsed time = 223.61 sec. (173320.15 ticks, tree = 7.03 MB, solutions = 19)\n",
      "\n",
      "GUB cover cuts applied:  22\n",
      "Clique cuts applied:  12\n",
      "Cover cuts applied:  22\n",
      "Implied bound cuts applied:  15\n",
      "Flow cuts applied:  1\n",
      "Mixed integer rounding cuts applied:  102\n",
      "Zero-half cuts applied:  41\n",
      "Multi commodity flow cuts applied:  1\n",
      "Lift and project cuts applied:  21\n",
      "Gomory fractional cuts applied:  22\n",
      "\n",
      "Root node processing (before b&c):\n",
      "  Real time             =    0.20 sec. (85.04 ticks)\n",
      "Parallel b&c, 2 threads:\n",
      "  Real time             =  228.00 sec. (176705.75 ticks)\n",
      "  Sync time (average)   =    4.44 sec.\n",
      "  Wait time (average)   =    0.11 sec.\n",
      "                          ------------\n",
      "Total (root+branch&cut) =  228.21 sec. (176790.79 ticks)\n",
      "* model TSP solved with objective = 25354.106\n"
     ]
    }
   ],
   "source": [
    "# 問題を解く\n",
    "# ログ出力をONにして、詳細情報も表示します\n",
    "\n",
    "mdl.solve(log_output = True)\n",
    "mdl.report()"
   ]
  },
  {
   "cell_type": "code",
   "execution_count": 19,
   "metadata": {},
   "outputs": [
    {
     "name": "stdout",
     "output_type": "stream",
     "text": [
      "status  = integer optimal, tolerance\n",
      "time    = 228.216 s.\n",
      "problem = MILP\n",
      "gap     = 0.00996211%\n",
      "\n"
     ]
    }
   ],
   "source": [
    "# 詳細情報の表示\n",
    "\n",
    "print(mdl.get_solve_details())"
   ]
  },
  {
   "cell_type": "code",
   "execution_count": 20,
   "metadata": {},
   "outputs": [],
   "source": [
    "# 結果の取得\n",
    "\n",
    "indexes = [u[i].solution_value for i in range(N)]\n",
    "matrix = [[x[i, j].solution_value for j in range(N)] for i in range(N)]\n",
    "ar = np.array(matrix)"
   ]
  },
  {
   "cell_type": "code",
   "execution_count": 21,
   "metadata": {},
   "outputs": [
    {
     "data": {
      "image/png": "[encoded data removed]",
      "text/plain": [
       "<Figure size 432x432 with 1 Axes>"
      ]
     },
     "metadata": {
      "needs_background": "light"
     },
     "output_type": "display_data"
    }
   ],
   "source": [
    "# オリジナル散布図の再表示\n",
    "\n",
    "plt.figure(figsize=(6,6))\n",
    "plt.scatter(data_np[:,0], data_np[:,1])\n",
    "plt.grid()\n",
    "plt.show()"
   ]
  },
  {
   "cell_type": "code",
   "execution_count": 22,
   "metadata": {},
   "outputs": [
    {
     "data": {
      "image/png": "[encoded data removed]",
      "text/plain": [
       "<Figure size 432x432 with 1 Axes>"
      ]
     },
     "metadata": {
      "needs_background": "light"
     },
     "output_type": "display_data"
    }
   ],
   "source": [
    "# 結果の散布図上での表示\n",
    "\n",
    "data_np = np.array(data)\n",
    "plt.figure(figsize=(6,6))\n",
    "plt.scatter(data_np[:,0], data_np[:,1])\n",
    "for i in range(N):\n",
    "    for j in range(N):\n",
    "        if ar[i, j] == 1:\n",
    "            plt.plot(data_np[[i,j],0], data_np[[i,j],1], c='b')\n",
    "plt.grid()            \n",
    "plt.show()"
   ]
  },
  {
   "cell_type": "code",
   "execution_count": null,
   "metadata": {},
   "outputs": [],
   "source": []
  }
 ],
 "metadata": {
  "kernelspec": {
   "display_name": "Python 3",
   "language": "python",
   "name": "python3"
  },
  "language_info": {
   "codemirror_mode": {
    "name": "ipython",
    "version": 3
   },
   "file_extension": ".py",
   "mimetype": "text/x-python",
   "name": "python",
   "nbconvert_exporter": "python",
   "pygments_lexer": "ipython3",
   "version": "3.7.3"
  }
 },
 "nbformat": 4,
 "nbformat_minor": 1
}
