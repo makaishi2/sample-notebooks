{
 "cells": [
  {
   "cell_type": "markdown",
   "metadata": {
    "collapsed": true
   },
   "source": [
    "# Decision Optimizerで数独を解く"
   ]
  },
  {
   "cell_type": "markdown",
   "metadata": {},
   "source": [
    "## 問題データの定義"
   ]
  },
  {
   "cell_type": "code",
   "execution_count": null,
   "metadata": {},
   "outputs": [],
   "source": [
    "# GRNG: Grid Range\n",
    "GRNG = range(9)"
   ]
  },
  {
   "cell_type": "code",
   "execution_count": null,
   "metadata": {},
   "outputs": [],
   "source": [
    "SUDOKU_PROBLEM_X = ( (0, 0, 0,  0, 1, 5,  0, 7, 0),\n",
    "                     (6, 3, 0,  8, 0, 0,  0, 0, 0),\n",
    "                     (0, 0, 8,  0, 4, 0,  0, 0, 0),\n",
    "                     (0, 2, 5,  0, 0, 0,  0, 4, 0),\n",
    "                     (3, 0, 0,  4, 7, 0,  2, 0, 0),\n",
    "                     (1, 0, 0,  0, 0, 0,  0, 6, 0),\n",
    "                     (8, 0, 0,  0, 0, 6,  0, 0, 0),\n",
    "                     (0, 0, 0,  0, 2, 0,  0, 0, 0),\n",
    "                     (0, 7, 2,  1, 0, 0,  0, 9, 0)\n",
    "                    )"
   ]
  },
  {
   "cell_type": "code",
   "execution_count": null,
   "metadata": {},
   "outputs": [],
   "source": [
    "import numpy as np\n",
    "import matplotlib.pyplot as plt\n",
    "\n",
    "# 表示用関数\n",
    "def draw_grid(values):\n",
    "    %matplotlib inline\n",
    "    fig, ax = plt.subplots(figsize =(4,4))\n",
    "    min_val, max_val = 0, 9\n",
    "    R =  range(0,9)\n",
    "    for l in R:\n",
    "        for c in R:\n",
    "            v = values[c][l]\n",
    "            s = \" \"\n",
    "            if v > 0:\n",
    "                s = str(v)\n",
    "            ax.text(l+0.5,8.5-c, s, va='center', ha='center')\n",
    "        ax.set_xlim(min_val, max_val)\n",
    "    ax.set_ylim(min_val, max_val)\n",
    "    ax.set_xticks(np.arange(max_val))\n",
    "    ax.set_yticks(np.arange(max_val))\n",
    "    ax.grid()\n",
    "    plt.show()"
   ]
  },
  {
   "cell_type": "code",
   "execution_count": null,
   "metadata": {},
   "outputs": [],
   "source": [
    "# 問題の表示\n",
    "draw_grid(SUDOKU_PROBLEM_X)"
   ]
  },
  {
   "cell_type": "code",
   "execution_count": null,
   "metadata": {},
   "outputs": [],
   "source": [
    "# 問題をproblem変数に代入\n",
    "problem = SUDOKU_PROBLEM_X"
   ]
  },
  {
   "cell_type": "markdown",
   "metadata": {},
   "source": [
    "## CPLEXによる問題定義"
   ]
  },
  {
   "cell_type": "code",
   "execution_count": null,
   "metadata": {},
   "outputs": [],
   "source": [
    "# ライブラリインポート\n",
    "from docplex.cp.model import *\n",
    "\n",
    "# モデルの生成\n",
    "mdl = CpoModel(name=\"Sudoku\")"
   ]
  },
  {
   "cell_type": "code",
   "execution_count": null,
   "metadata": {},
   "outputs": [],
   "source": [
    "# 決定変数の定義\n",
    "\n",
    "# 9 x 9 の配列に Clc という名前のCPLEX変数を定義します (C00, C01,.. C88)\n",
    "# それぞれの変数は1から9までの整数値を取ります\n",
    "\n",
    "grid = [[integer_var(min=1, max=9, name=\"C\" + str(l) + str(c)) for l in GRNG] for c in GRNG]"
   ]
  },
  {
   "cell_type": "code",
   "execution_count": null,
   "metadata": {},
   "outputs": [],
   "source": [
    "# 制約の定義\n",
    "\n",
    "# 制約条件を定義していきます\n",
    "\n",
    "# 同一行に同じ整数値をもってはいけない\n",
    "# all_diff は「すべての要素が同じではいけない」という意味の制約を表現する関数です\n",
    "for l in GRNG:\n",
    "    mdl.add(all_diff([grid[l][c] for c in GRNG]))\n",
    "\n",
    "# 同一列に同じ整数値をもってはいけない\n",
    "for c in GRNG:\n",
    "    mdl.add(all_diff([grid[l][c] for l in GRNG]))    \n",
    "    \n",
    "# 3 x 3 の矩形領域に同じ整数値があってはいけない\n",
    "ssrng = range(0, 9, 3)\n",
    "for sl in ssrng:\n",
    "    for sc in ssrng:\n",
    "        mdl.add(all_diff([grid[l][c] for l in range(sl, sl + 3) for c in range(sc, sc + 3)]))"
   ]
  },
  {
   "cell_type": "code",
   "execution_count": null,
   "metadata": {},
   "outputs": [],
   "source": [
    "# 初期条件の設定\n",
    "\n",
    "# C00からC88までのCPLEX変数に初期条件をとて与えられている値を設定していきます\n",
    "# 設定は set_domainという関数で行います。\n",
    "# 例えばマス目の値が7の場合該当する変数に対して \n",
    "# Cxx.set_domain(7, 7) (７以上7以下の値を設定) という設定を行います。\n",
    "\n",
    "for l in GRNG:\n",
    "    for c in GRNG:\n",
    "        v = problem[l][c]\n",
    "        if v > 0:\n",
    "            grid[l][c].set_domain((v, v))\n",
    "            # 設定した変数名と値の表示\n",
    "            print(grid[l][c])"
   ]
  },
  {
   "cell_type": "markdown",
   "metadata": {},
   "source": [
    "## CPLEXによる解の取得\n",
    "これで準備は整いました。後はモデルのslove関数を呼び出すと数独の問題を解いてくれます。"
   ]
  },
  {
   "cell_type": "code",
   "execution_count": null,
   "metadata": {},
   "outputs": [],
   "source": [
    "print('Solving model....')\n",
    "msol = mdl.solve(TimeLimit=10)\n",
    "print('Solved!')"
   ]
  },
  {
   "cell_type": "code",
   "execution_count": null,
   "metadata": {},
   "outputs": [],
   "source": [
    "draw_grid(problem)\n",
    "sol = [[msol[grid[l][c]] for c in GRNG] for l in GRNG]\n",
    "print('Solve time: ',  msol.get_solve_time())\n",
    "draw_grid(sol)"
   ]
  },
  {
   "cell_type": "code",
   "execution_count": null,
   "metadata": {},
   "outputs": [],
   "source": []
  }
 ],
 "metadata": {
  "kernelspec": {
   "display_name": "Python 3.6",
   "language": "python",
   "name": "python3"
  },
  "language_info": {
   "codemirror_mode": {
    "name": "ipython",
    "version": 3
   },
   "file_extension": ".py",
   "mimetype": "text/x-python",
   "name": "python",
   "nbconvert_exporter": "python",
   "pygments_lexer": "ipython3",
   "version": "3.6.8"
  }
 },
 "nbformat": 4,
 "nbformat_minor": 1
}
